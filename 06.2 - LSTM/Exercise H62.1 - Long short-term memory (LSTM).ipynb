{
 "cells": [
  {
   "cell_type": "markdown",
   "id": "ceramic-triple",
   "metadata": {},
   "source": [
    "# Exercise H62.1: Long short-term memory (LSTM)"
   ]
  },
  {
   "cell_type": "markdown",
   "id": "isolated-chuck",
   "metadata": {},
   "source": [
    "## Generate data sets"
   ]
  },
  {
   "cell_type": "code",
   "execution_count": 1,
   "id": "renewable-champagne",
   "metadata": {},
   "outputs": [],
   "source": [
    "import numpy as np\n",
    "\n",
    "n_train = 8000\n",
    "n_test = 2000\n",
    "N = 30\n",
    "\n",
    "X_train = np.random.choice(range(10), (n_train, N, 1)).astype(float)\n",
    "X_test = np.random.choice(range(10), (n_test, N, 1)).astype(float)"
   ]
  },
  {
   "cell_type": "code",
   "execution_count": 2,
   "id": "disabled-florida",
   "metadata": {},
   "outputs": [],
   "source": [
    "y_train = (X_train.sum(axis=1) >= 100).astype(float)\n",
    "y_test = (X_test.sum(axis=1) >= 100).astype(float)"
   ]
  },
  {
   "cell_type": "markdown",
   "id": "international-prescription",
   "metadata": {},
   "source": [
    "## Build RNN"
   ]
  },
  {
   "cell_type": "code",
   "execution_count": 3,
   "id": "economic-bosnia",
   "metadata": {},
   "outputs": [],
   "source": [
    "from tensorflow.keras.models import Sequential\n",
    "from tensorflow.keras.layers import LSTM, Dense\n",
    "from tensorflow.keras.optimizers import Adam\n",
    "\n",
    "adam = Adam(learning_rate=0.001, beta_1=0.9, beta_2=0.999, epsilon=1e-08)\n",
    "\n",
    "model = Sequential([\n",
    "    LSTM(200),\n",
    "    Dense(1, activation=\"sigmoid\")\n",
    "])\n",
    "model.compile(optimizer=adam, loss=\"binary_crossentropy\", metrics=\"accuracy\")"
   ]
  },
  {
   "cell_type": "code",
   "execution_count": 5,
   "id": "needed-funds",
   "metadata": {},
   "outputs": [
    {
     "name": "stdout",
     "output_type": "stream",
     "text": [
      "Epoch 1/5\n",
      "160/160 [==============================] - 13s 79ms/step - loss: 0.0500 - accuracy: 0.9883 - val_loss: 0.0541 - val_accuracy: 0.9900\n",
      "Epoch 2/5\n",
      "160/160 [==============================] - 12s 77ms/step - loss: 0.0592 - accuracy: 0.9884 - val_loss: 0.0486 - val_accuracy: 0.9900\n",
      "Epoch 3/5\n",
      "160/160 [==============================] - 12s 77ms/step - loss: 0.0428 - accuracy: 0.9886 - val_loss: 0.0186 - val_accuracy: 0.9940\n",
      "Epoch 4/5\n",
      "160/160 [==============================] - 12s 76ms/step - loss: 0.0300 - accuracy: 0.9906 - val_loss: 0.0171 - val_accuracy: 0.9935\n",
      "Epoch 5/5\n",
      "160/160 [==============================] - 12s 76ms/step - loss: 0.0174 - accuracy: 0.9936 - val_loss: 0.0157 - val_accuracy: 0.9920\n"
     ]
    },
    {
     "data": {
      "text/plain": [
       "<tensorflow.python.keras.callbacks.History at 0x7f0ca8592880>"
      ]
     },
     "execution_count": 5,
     "metadata": {},
     "output_type": "execute_result"
    }
   ],
   "source": [
    "model.fit(\n",
    "    X_train, y_train, epochs=5, validation_data=(X_test, y_test), batch_size=50\n",
    ")"
   ]
  },
  {
   "cell_type": "code",
   "execution_count": 6,
   "id": "exciting-classic",
   "metadata": {},
   "outputs": [
    {
     "name": "stdout",
     "output_type": "stream",
     "text": [
      "63/63 [==============================] - 1s 23ms/step - loss: 0.0157 - accuracy: 0.9920\n"
     ]
    },
    {
     "data": {
      "text/plain": [
       "[0.015665456652641296, 0.9919999837875366]"
      ]
     },
     "execution_count": 6,
     "metadata": {},
     "output_type": "execute_result"
    }
   ],
   "source": [
    "model.evaluate(X_test, y_test)"
   ]
  },
  {
   "cell_type": "markdown",
   "id": "cross-empire",
   "metadata": {},
   "source": [
    "## Discuss Accuracy"
   ]
  },
  {
   "cell_type": "code",
   "execution_count": 7,
   "id": "painted-forge",
   "metadata": {},
   "outputs": [
    {
     "data": {
      "text/plain": [
       "0.988375"
      ]
     },
     "execution_count": 7,
     "metadata": {},
     "output_type": "execute_result"
    }
   ],
   "source": [
    "y_train.mean()"
   ]
  },
  {
   "cell_type": "code",
   "execution_count": 8,
   "id": "textile-dollar",
   "metadata": {},
   "outputs": [
    {
     "data": {
      "text/plain": [
       "0.99"
      ]
     },
     "execution_count": 8,
     "metadata": {},
     "output_type": "execute_result"
    }
   ],
   "source": [
    "y_test.mean()"
   ]
  },
  {
   "cell_type": "markdown",
   "id": "infectious-hunger",
   "metadata": {},
   "source": [
    "Model that always predicts `1` would have almost the same accuracy"
   ]
  },
  {
   "cell_type": "markdown",
   "id": "specialized-installation",
   "metadata": {},
   "source": [
    "Also, would be very easy problem to solve without NN (just summing and checking `>=100`)"
   ]
  },
  {
   "cell_type": "code",
   "execution_count": null,
   "id": "incorrect-apache",
   "metadata": {},
   "outputs": [],
   "source": []
  }
 ],
 "metadata": {
  "kernelspec": {
   "display_name": "Python 3",
   "language": "python",
   "name": "python3"
  },
  "language_info": {
   "codemirror_mode": {
    "name": "ipython",
    "version": 3
   },
   "file_extension": ".py",
   "mimetype": "text/x-python",
   "name": "python",
   "nbconvert_exporter": "python",
   "pygments_lexer": "ipython3",
   "version": "3.8.5"
  }
 },
 "nbformat": 4,
 "nbformat_minor": 5
}
