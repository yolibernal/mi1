{
 "cells": [
  {
   "cell_type": "markdown",
   "metadata": {},
   "source": [
    "# Exercise H3.2:  MLP Regression"
   ]
  },
  {
   "cell_type": "markdown",
   "metadata": {},
   "source": [
    "## Initialization"
   ]
  },
  {
   "cell_type": "markdown",
   "metadata": {},
   "source": [
    "Constructing MLP with single hidden layer ($N_1 = 3$) and single input and output neuron ($N_L = N_2 = 1$)"
   ]
  },
  {
   "cell_type": "code",
   "execution_count": 1,
   "metadata": {},
   "outputs": [],
   "source": [
    "N0 = 1\n",
    "N1 = 3\n",
    "N2 = 1"
   ]
  },
  {
   "cell_type": "code",
   "execution_count": 2,
   "metadata": {},
   "outputs": [],
   "source": [
    "import numpy as np"
   ]
  },
  {
   "cell_type": "markdown",
   "metadata": {},
   "source": [
    "Using $tanh$ as transfer function (`np.tanh`)"
   ]
  },
  {
   "cell_type": "markdown",
   "metadata": {},
   "source": [
    "Initialize weights in interval of $[-0.5,0.5]$"
   ]
  },
  {
   "cell_type": "code",
   "execution_count": 3,
   "metadata": {},
   "outputs": [],
   "source": [
    "def initialize_weights():\n",
    "    W10 = np.random.uniform(-0.5, 0.5, (N0 + 1, N1)) # (2, 3)\n",
    "    W21 = np.random.uniform(-0.5, 0.5, (N1 + 1, N2)) # (4, 1)\n",
    "    return W10, W21"
   ]
  },
  {
   "cell_type": "code",
   "execution_count": 4,
   "metadata": {},
   "outputs": [],
   "source": [
    "W10, W21 = initialize_weights()"
   ]
  },
  {
   "cell_type": "markdown",
   "metadata": {},
   "source": [
    "with $\\underline{W}^{v'v} \\in \\mathbb{R}^{(N_v+1) \\times N_{v'}}$ (inclusing bias vector)\n",
    "\n",
    "Therefore,\n",
    "\n",
    "$\\underline{h}^{v'} = {\\underline{W}^{v'v}}^\\top \\cdot \\underline{f}^v(\\underline{h}^v) = {\\underline{W}^{v'v}}^\\top \\cdot \\underline{s}^v$"
   ]
  },
  {
   "cell_type": "code",
   "execution_count": 5,
   "metadata": {},
   "outputs": [
    {
     "data": {
      "text/plain": [
       "array([[ 0.02596434, -0.25902193, -0.36975844],\n",
       "       [ 0.26234194,  0.05727734,  0.4958408 ]])"
      ]
     },
     "execution_count": 5,
     "metadata": {},
     "output_type": "execute_result"
    }
   ],
   "source": [
    "W10"
   ]
  },
  {
   "cell_type": "code",
   "execution_count": 6,
   "metadata": {},
   "outputs": [
    {
     "data": {
      "text/plain": [
       "array([[-0.4362734 ],\n",
       "       [-0.38579149],\n",
       "       [-0.11204119],\n",
       "       [ 0.21977373]])"
      ]
     },
     "execution_count": 6,
     "metadata": {},
     "output_type": "execute_result"
    }
   ],
   "source": [
    "W21"
   ]
  },
  {
   "cell_type": "markdown",
   "metadata": {},
   "source": [
    "## Interative learning"
   ]
  },
  {
   "cell_type": "code",
   "execution_count": 7,
   "metadata": {},
   "outputs": [],
   "source": [
    "def forward_prop(x, W10, W21):\n",
    "    h0 = np.array(x)\n",
    "    # inputs not using transfer function\n",
    "    s0 = np.array([1, *h0])\n",
    "    \n",
    "    h1 = W10.T @ s0\n",
    "    s1 = np.array([1, *np.tanh(h1)])\n",
    "    \n",
    "    h2 = W21.T @ s1\n",
    "    y = h2\n",
    "    return h0, h1, h2"
   ]
  },
  {
   "cell_type": "code",
   "execution_count": 8,
   "metadata": {},
   "outputs": [
    {
     "data": {
      "text/plain": [
       "(array([0.3]),\n",
       " array([ 0.10466692, -0.24183873, -0.2210062 ]),\n",
       " array([-0.49772218]))"
      ]
     },
     "execution_count": 8,
     "metadata": {},
     "output_type": "execute_result"
    }
   ],
   "source": [
    "forward_prop([0.3], W10, W21)"
   ]
  },
  {
   "cell_type": "code",
   "execution_count": 9,
   "metadata": {},
   "outputs": [],
   "source": [
    "def quadratic_error(y, y_t):\n",
    "    return 0.5 * (y_t - y)**2"
   ]
  },
  {
   "cell_type": "code",
   "execution_count": 10,
   "metadata": {},
   "outputs": [],
   "source": [
    "def quadratic_error_deriv(y, y_t):\n",
    "    return y - y_t"
   ]
  },
  {
   "cell_type": "code",
   "execution_count": 11,
   "metadata": {},
   "outputs": [],
   "source": [
    "def tanh_deriv(x):\n",
    "    return 1.0 - np.tanh(x)**2"
   ]
  },
  {
   "cell_type": "code",
   "execution_count": 12,
   "metadata": {},
   "outputs": [],
   "source": [
    "def backward_prop(h2, h1, W21):\n",
    "    # derivative of linear transfer function for output neuron is 1\n",
    "    delta2 = [1]\n",
    "    \n",
    "    delta1_bias = 1 * (W21[0] * delta2)\n",
    "    delta1_nonbias = tanh_deriv(h1) * (W21[1:].T * delta2)\n",
    "    delta1 = np.array([*delta1_bias, * delta1_nonbias.flatten()])\n",
    "\n",
    "    return delta2, delta1"
   ]
  },
  {
   "cell_type": "code",
   "execution_count": 13,
   "metadata": {},
   "outputs": [
    {
     "data": {
      "text/plain": [
       "([1], array([-0.4362734 , -0.38159576, -0.10573563,  0.20937927]))"
      ]
     },
     "execution_count": 13,
     "metadata": {},
     "output_type": "execute_result"
    }
   ],
   "source": [
    "h0, h1, h2 = forward_prop([0.3], W10, W21)\n",
    "backward_prop(h2, h1, W21)"
   ]
  },
  {
   "cell_type": "code",
   "execution_count": 17,
   "metadata": {},
   "outputs": [],
   "source": [
    "def calculate_gradient(y, y_t, v, v_prime, i, j, delta_v_prime, h_v):\n",
    "    if j == 0:\n",
    "        gradient = quadratic_error_deriv(y, y_t) * delta_v_prime[i] * 1\n",
    "    else:\n",
    "        gradient = quadratic_error_deriv(y, y_t) * delta_v_prime[i] * np.tanh(h_v[j])\n",
    "        \n",
    "    return gradient"
   ]
  },
  {
   "cell_type": "code",
   "execution_count": 18,
   "metadata": {},
   "outputs": [],
   "source": [
    "def calculate_delta_W(W, y, y_t, v, v_prime, delta_v_prime, h_v):\n",
    "    N, N_prime = W.shape\n",
    "    \n",
    "    delta_W = np.zeros(W.shape)\n",
    "    for j in range(N):\n",
    "        for i in range(N_prime):\n",
    "            delta_W[j, i] = calculate_gradient(y=y, y_t=y_t, v=v, v_prime=v_prime, \n",
    "                                               i=i, j=j,\n",
    "                                               delta_v_prime=delta_v_prime, h_v=h_v)\n",
    "    return delta_W"
   ]
  },
  {
   "cell_type": "code",
   "execution_count": 19,
   "metadata": {},
   "outputs": [
    {
     "data": {
      "text/plain": [
       "array([0.2129682])"
      ]
     },
     "execution_count": 19,
     "metadata": {},
     "output_type": "execute_result"
    }
   ],
   "source": [
    "h0, h1, h2 = forward_prop([0.3], W10, W21)\n",
    "delta2, delta1 = backward_prop(h2, h1, W21)\n",
    "calculate_gradient(y=h2, y_t=0.4, v=1, v_prime=2,\n",
    "                   i=0, j=1,\n",
    "                   delta_v_prime=delta2, h_v=h1)"
   ]
  },
  {
   "cell_type": "code",
   "execution_count": 20,
   "metadata": {},
   "outputs": [],
   "source": [
    "X = np.loadtxt(\"RegressionData.txt\")"
   ]
  },
  {
   "cell_type": "code",
   "execution_count": 21,
   "metadata": {},
   "outputs": [],
   "source": [
    "def epoch(W10, W21):\n",
    "    delta_W10 = np.zeros(W10.shape)\n",
    "    delta_W21 = np.zeros(W21.shape)\n",
    "    for x in X:\n",
    "        x1, y_t = x\n",
    "        h0, h1, h2 = forward_prop([x1], W10, W21)\n",
    "        delta2, delta1 = backward_prop(h2, h1, W21)\n",
    "        y = h2\n",
    "        delta_W10 += calculate_delta_W(W=W10, y=y, y_t=y_t,\n",
    "                                        v=0, v_prime=1,\n",
    "                                        delta_v_prime=delta1, h_v=np.array([1, *h0]))\n",
    "        delta_W21 += calculate_delta_W(W=W21, y=y, y_t=y_t,\n",
    "                                        v=1, v_prime=2,\n",
    "                                        delta_v_prime=delta2, h_v=np.array([1, *h1]))\n",
    "    \n",
    "    delta_W10 = delta_W10 / len(X)\n",
    "    delta_W21 = delta_W21 / len(X)\n",
    "    \n",
    "    return delta_W10, delta_W21"
   ]
  },
  {
   "cell_type": "code",
   "execution_count": 22,
   "metadata": {},
   "outputs": [],
   "source": [
    "def update_weights(W, delta_W, learning_rate=0.5):\n",
    "    return W - learning_rate * delta_W"
   ]
  },
  {
   "cell_type": "code",
   "execution_count": 23,
   "metadata": {},
   "outputs": [],
   "source": [
    "def calculate_E_T(X, W10, W21):\n",
    "    errors = []\n",
    "    for x in X:\n",
    "        x1, y_t = x\n",
    "        h0, h1, h2 = forward_prop([x1], W10, W21)\n",
    "        y = h2\n",
    "        error = quadratic_error(y, y_t)\n",
    "        errors.append(error)\n",
    "    return np.array(errors).sum() / len(X)"
   ]
  },
  {
   "cell_type": "code",
   "execution_count": 24,
   "metadata": {},
   "outputs": [],
   "source": [
    "W10, W21 = initialize_weights()\n",
    "\n",
    "error_history = []\n",
    "for t in range(1000):\n",
    "    delta_W10, delta_W21 = epoch(W10, W21)\n",
    "    W10 = update_weights(W10, delta_W10)\n",
    "    W21 = update_weights(W21, delta_W21)\n",
    "    error_history.append(calculate_E_T(X, W10, W21))"
   ]
  },
  {
   "cell_type": "code",
   "execution_count": 25,
   "metadata": {},
   "outputs": [
    {
     "data": {
      "text/plain": [
       "array([[ 0.22077303,  0.49115511,  0.65608285],\n",
       "       [-0.73988442, -0.91965682, -0.63139719]])"
      ]
     },
     "execution_count": 25,
     "metadata": {},
     "output_type": "execute_result"
    }
   ],
   "source": [
    "W10"
   ]
  },
  {
   "cell_type": "code",
   "execution_count": 30,
   "metadata": {},
   "outputs": [
    {
     "name": "stderr",
     "output_type": "stream",
     "text": [
      "/home/jonas/miniconda3/envs/mi1/lib/python3.7/site-packages/ipykernel_launcher.py:6: UserWarning: Matplotlib is currently using module://ipykernel.pylab.backend_inline, which is a non-GUI backend, so cannot show the figure.\n",
      "  \n"
     ]
    },
    {
     "data": {
      "image/png": "[encoded data removed]",
      "text/plain": [
       "<Figure size 432x288 with 1 Axes>"
      ]
     },
     "metadata": {
      "needs_background": "light"
     },
     "output_type": "display_data"
    }
   ],
   "source": [
    "import matplotlib.pyplot as plt\n",
    "\n",
    "fig, ax = plt.subplots()\n",
    "\n",
    "ax.plot(range(len(error_history)), error_history)\n",
    "fig.show()"
   ]
  },
  {
   "cell_type": "code",
   "execution_count": 27,
   "metadata": {},
   "outputs": [],
   "source": [
    "X_test = np.linspace(0, 1, 1000)\n",
    "s1_history = []\n",
    "y_history = []\n",
    "\n",
    "for x in X_test.T:\n",
    "    h0, h1, h2 = forward_prop([x], W10, W21)\n",
    "    s1 = np.tanh(h1)\n",
    "    s1_history.append(s1)\n",
    "    \n",
    "    y_history.append(h2)\n",
    "    \n",
    "s1_history = np.array(s1_history)\n",
    "y_history = np.array(y_history)"
   ]
  },
  {
   "cell_type": "code",
   "execution_count": 28,
   "metadata": {},
   "outputs": [
    {
     "data": {
      "text/plain": [
       "<matplotlib.legend.Legend at 0x7f218da73bd0>"
      ]
     },
     "execution_count": 28,
     "metadata": {},
     "output_type": "execute_result"
    },
    {
     "data": {
      "image/png": "[encoded data removed]",
      "text/plain": [
       "<Figure size 432x288 with 1 Axes>"
      ]
     },
     "metadata": {
      "needs_background": "light"
     },
     "output_type": "display_data"
    }
   ],
   "source": [
    "fig, ax = plt.subplots()\n",
    "\n",
    "for i in range(N1):\n",
    "    ax.plot(X_test, s1_history[:,i], label=i)\n",
    "ax.legend()"
   ]
  },
  {
   "cell_type": "code",
   "execution_count": 29,
   "metadata": {},
   "outputs": [
    {
     "data": {
      "text/plain": [
       "<matplotlib.collections.PathCollection at 0x7f218dc29f90>"
      ]
     },
     "execution_count": 29,
     "metadata": {},
     "output_type": "execute_result"
    },
    {
     "data": {
      "image/png": "[encoded data removed]",
      "text/plain": [
       "<Figure size 432x288 with 1 Axes>"
      ]
     },
     "metadata": {
      "needs_background": "light"
     },
     "output_type": "display_data"
    }
   ],
   "source": [
    "fig, ax = plt.subplots()\n",
    "\n",
    "ax.plot(X_test, y_history)\n",
    "ax.scatter(x=X[:,0], y=X[:,1])"
   ]
  },
  {
   "cell_type": "code",
   "execution_count": null,
   "metadata": {},
   "outputs": [],
   "source": []
  }
 ],
 "metadata": {
  "kernelspec": {
   "display_name": "Python 3",
   "language": "python",
   "name": "python3"
  },
  "language_info": {
   "codemirror_mode": {
    "name": "ipython",
    "version": 3
   },
   "file_extension": ".py",
   "mimetype": "text/x-python",
   "name": "python",
   "nbconvert_exporter": "python",
   "pygments_lexer": "ipython3",
   "version": "3.8.5"
  }
 },
 "nbformat": 4,
 "nbformat_minor": 4
}
