{
 "cells": [
  {
   "cell_type": "markdown",
   "id": "processed-purchase",
   "metadata": {},
   "source": [
    "# Exercise H8.2:   Variability of classification"
   ]
  },
  {
   "cell_type": "markdown",
   "id": "connected-latitude",
   "metadata": {},
   "source": [
    "## Generate data"
   ]
  },
  {
   "cell_type": "code",
   "execution_count": 11,
   "id": "verbal-identifier",
   "metadata": {},
   "outputs": [],
   "source": [
    "N = 2\n",
    "\n",
    "mu1 = (0, 1)\n",
    "mu2 = (1, 0)\n",
    "\n",
    "cov = 2 * np.identity(2)"
   ]
  },
  {
   "cell_type": "code",
   "execution_count": 24,
   "id": "cultural-revolution",
   "metadata": {},
   "outputs": [],
   "source": [
    "import numpy as np\n",
    "\n",
    "\n",
    "def generate_data_points(p):\n",
    "    X1 = np.random.multivariate_normal(mu1, cov, p // 2).T\n",
    "    X2 = np.random.multivariate_normal(mu2, cov, p // 2).T\n",
    "\n",
    "    y1 = np.full(p // 2, 1)\n",
    "    y2 = np.full(p // 2, -1)\n",
    "    return np.hstack([X1, X2]), np.hstack([y1, y2])"
   ]
  },
  {
   "cell_type": "code",
   "execution_count": 25,
   "id": "opening-actress",
   "metadata": {},
   "outputs": [
    {
     "data": {
      "text/plain": [
       "(array([[-3.82364346e-04, -1.77496245e+00,  1.55009156e+00,\n",
       "          1.98564726e+00,  2.45250036e+00, -5.20567856e-01],\n",
       "        [-2.05658270e+00,  1.41595537e+00,  9.57142770e-01,\n",
       "          1.01555274e+00,  6.53551859e-01,  6.07083367e-02]]),\n",
       " array([ 1,  1,  1, -1, -1, -1]))"
      ]
     },
     "execution_count": 25,
     "metadata": {},
     "output_type": "execute_result"
    }
   ],
   "source": [
    "generate_data_points(6)"
   ]
  },
  {
   "cell_type": "code",
   "execution_count": 38,
   "id": "victorian-processor",
   "metadata": {},
   "outputs": [],
   "source": [
    "def find_optimal_weights(X, y):\n",
    "    Xb = np.vstack([np.full(X.shape[1], 1), X])\n",
    "    return np.linalg.inv(Xb @ Xb.T) @ Xb @ y.T"
   ]
  },
  {
   "cell_type": "code",
   "execution_count": 39,
   "id": "clear-advertising",
   "metadata": {},
   "outputs": [
    {
     "data": {
      "text/plain": [
       "array([-0.07634533, -0.34659784,  0.3428053 ])"
      ]
     },
     "execution_count": 39,
     "metadata": {},
     "output_type": "execute_result"
    }
   ],
   "source": [
    "find_optimal_weights(*generate_data_points(6))"
   ]
  },
  {
   "cell_type": "code",
   "execution_count": 45,
   "id": "broken-attitude",
   "metadata": {},
   "outputs": [],
   "source": [
    "def predict_label(x, w):\n",
    "    xb = np.array([1, *x])\n",
    "    return np.sign(w @ xb)"
   ]
  },
  {
   "cell_type": "code",
   "execution_count": 46,
   "id": "knowing-cambodia",
   "metadata": {},
   "outputs": [
    {
     "data": {
      "text/plain": [
       "-1.0"
      ]
     },
     "execution_count": 46,
     "metadata": {},
     "output_type": "execute_result"
    }
   ],
   "source": [
    "X, y = generate_data_points(6)\n",
    "w = find_optimal_weights(X, y)\n",
    "predict_label(np.array([0.5, 1]), w)"
   ]
  },
  {
   "cell_type": "code",
   "execution_count": 47,
   "id": "reflected-sixth",
   "metadata": {},
   "outputs": [],
   "source": [
    "P = [3, 4, 6, 8, 10, 20, 40, 100]"
   ]
  },
  {
   "cell_type": "code",
   "execution_count": 56,
   "id": "every-demand",
   "metadata": {},
   "outputs": [],
   "source": [
    "p_test = 1000\n",
    "\n",
    "Mean_acc_train = []\n",
    "Mean_acc_test = []\n",
    "Std_acc_train = []\n",
    "Std_acc_test = []\n",
    "for p in P:\n",
    "    Acc_train = []\n",
    "    Acc_test = []\n",
    "    for i in range(50):\n",
    "        X, y = generate_data_points(p)\n",
    "        w = find_optimal_weights(X, y)\n",
    "        X_test, y_test = generate_data_points(p_test)\n",
    "        \n",
    "        y_pred_train = np.array([predict_label(x, w) for x in X.T])\n",
    "        acc_train = np.mean((y_pred_train == y).astype(int))\n",
    "        Acc_train.append(acc_train)\n",
    "        \n",
    "        y_pred_test = np.array([predict_label(x, w) for x in X_test.T])\n",
    "        acc_test = np.mean((y_pred_test == y_test).astype(int))\n",
    "        Acc_test.append(acc_test)\n",
    "    mean_acc_train = np.mean(Acc_train)\n",
    "    mean_acc_test = np.mean(Acc_test)\n",
    "    std_acc_train = np.std(Acc_train)\n",
    "    std_acc_test = np.std(Acc_test)\n",
    "    \n",
    "    Mean_acc_train.append(mean_acc_train)\n",
    "    Mean_acc_test.append(mean_acc_test)\n",
    "    Std_acc_train.append(std_acc_train)\n",
    "    Std_acc_test.append(std_acc_test)\n",
    "    "
   ]
  },
  {
   "cell_type": "code",
   "execution_count": 61,
   "id": "accurate-syntax",
   "metadata": {},
   "outputs": [
    {
     "data": {
      "text/plain": [
       "<ErrorbarContainer object of 3 artists>"
      ]
     },
     "execution_count": 61,
     "metadata": {},
     "output_type": "execute_result"
    },
    {
     "data": {
      "image/png": "[encoded data removed]",
      "text/plain": [
       "<Figure size 432x288 with 1 Axes>"
      ]
     },
     "metadata": {
      "needs_background": "light"
     },
     "output_type": "display_data"
    }
   ],
   "source": [
    "import matplotlib.pyplot as plt\n",
    "\n",
    "fig, ax = plt.subplots()\n",
    "\n",
    "ax.errorbar(P, Mean_acc_train, yerr=Std_acc_train)\n",
    "ax.errorbar(P, Mean_acc_test, yerr=Std_acc_test)"
   ]
  },
  {
   "cell_type": "markdown",
   "id": "crazy-taxation",
   "metadata": {},
   "source": [
    "Similar results for $w$: for larger $p$, there $w$ is less and less variation between the optimal $w$ for different generated data sets."
   ]
  },
  {
   "cell_type": "code",
   "execution_count": null,
   "id": "critical-powder",
   "metadata": {},
   "outputs": [],
   "source": []
  }
 ],
 "metadata": {
  "kernelspec": {
   "display_name": "Python 3",
   "language": "python",
   "name": "python3"
  },
  "language_info": {
   "codemirror_mode": {
    "name": "ipython",
    "version": 3
   },
   "file_extension": ".py",
   "mimetype": "text/x-python",
   "name": "python",
   "nbconvert_exporter": "python",
   "pygments_lexer": "ipython3",
   "version": "3.8.5"
  }
 },
 "nbformat": 4,
 "nbformat_minor": 5
}
